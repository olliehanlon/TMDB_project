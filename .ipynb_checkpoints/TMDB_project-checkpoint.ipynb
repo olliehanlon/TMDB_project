{
 "cells": [
  {
   "cell_type": "markdown",
   "id": "96c128a1-3b35-4c73-823d-1764c0ae2d05",
   "metadata": {
    "tags": []
   },
   "source": [
    "<p style=\"text-align:center;\">\n",
    "<img src=\"https://github.com/digital-futures-academy/DataScienceMasterResources/blob/main/Resources/datascience-notebook-header.png?raw=true\"\n",
    "     alt=\"DigitalFuturesLogo\"\n",
    "     style=\"float: center; margin-right: 10px;\" />\n",
    "</p>"
   ]
  },
  {
   "cell_type": "markdown",
   "id": "754aad3d-a998-44b9-880f-c06424ffe20f",
   "metadata": {
    "tags": []
   },
   "source": [
    "# Digital Futures TMDB Project\n",
    "### Ollie Hanlon\n",
    "\n",
    "#### Sections:\n",
    "1. Import Packages\n",
    "2. Import Data \n",
    "3. Data Checks \n",
    "4. Data Visulisation\n",
    "5. Key Points\n",
    "6. Exploring Movies in Depth"
   ]
  },
  {
   "cell_type": "markdown",
   "id": "115bd882-4bac-47e7-a80c-7bcf594f0183",
   "metadata": {
    "tags": []
   },
   "source": [
    "## 1. Import Packages"
   ]
  },
  {
   "cell_type": "code",
   "execution_count": 2,
   "id": "18bd086d-7a3d-4b31-83e5-e8898f581dbd",
   "metadata": {
    "tags": []
   },
   "outputs": [],
   "source": [
    "import numpy as np  # numpy!\n",
    "import seaborn as sns # visualisation!\n",
    "import matplotlib.pyplot as plt # visualisation!\n",
    "from matplotlib.lines import Line2D\n",
    "import pandas as pd # dataframes & data analysis!"
   ]
  },
  {
   "cell_type": "markdown",
   "id": "6dec10c2-73c7-474d-8704-a6914a784d82",
   "metadata": {},
   "source": [
    "## 2. Import Data"
   ]
  },
  {
   "cell_type": "code",
   "execution_count": 3,
   "id": "7331f9d6-17b1-4802-8d7d-25a6fe6b6435",
   "metadata": {
    "tags": []
   },
   "outputs": [],
   "source": [
    "df = pd.read_csv('TMDB_movies.csv') # read in data set"
   ]
  },
  {
   "cell_type": "markdown",
   "id": "8c587bb8-40ac-4ba4-9cbd-7948f6c86bd2",
   "metadata": {
    "tags": []
   },
   "source": [
    "## 3. Data Checks"
   ]
  },
  {
   "cell_type": "markdown",
   "id": "e8224b58-14c1-48c1-b72a-984848f116f4",
   "metadata": {},
   "source": [
    "#### 3.1. Checking for nulls"
   ]
  },
  {
   "cell_type": "code",
   "execution_count": 4,
   "id": "75d4d57d-da24-4a7b-9400-d3e089b3027f",
   "metadata": {
    "tags": []
   },
   "outputs": [
    {
     "data": {
      "text/plain": [
       "budget                     0\n",
       "genres                     0\n",
       "homepage                3091\n",
       "id                         0\n",
       "keywords                   0\n",
       "original_language          0\n",
       "original_title             0\n",
       "overview                   3\n",
       "popularity                 0\n",
       "production_companies       0\n",
       "production_countries       0\n",
       "release_date               1\n",
       "revenue                    0\n",
       "runtime                    2\n",
       "spoken_languages           0\n",
       "status                     0\n",
       "tagline                  844\n",
       "title                      0\n",
       "vote_average               0\n",
       "vote_count                 0\n",
       "dtype: int64"
      ]
     },
     "execution_count": 4,
     "metadata": {},
     "output_type": "execute_result"
    }
   ],
   "source": [
    "null_df = df.isnull() # check if entry is a null\n",
    "null_df.sum() # sums nulls per column"
   ]
  },
  {
   "cell_type": "markdown",
   "id": "5ff654ce-ea95-4074-9d02-c0fad082d90d",
   "metadata": {},
   "source": [
    "#### 3.2. Checking all IDs are unique"
   ]
  },
  {
   "cell_type": "code",
   "execution_count": 5,
   "id": "bbebaf3c-30ab-453f-bad1-ecd182289823",
   "metadata": {
    "tags": []
   },
   "outputs": [
    {
     "data": {
      "text/plain": [
       "4803"
      ]
     },
     "execution_count": 5,
     "metadata": {},
     "output_type": "execute_result"
    }
   ],
   "source": [
    "df.shape[0] # number of rows in database"
   ]
  },
  {
   "cell_type": "code",
   "execution_count": 6,
   "id": "8fa43de8-de48-4220-8de7-6328c7872d9e",
   "metadata": {
    "tags": []
   },
   "outputs": [
    {
     "data": {
      "text/plain": [
       "4803"
      ]
     },
     "execution_count": 6,
     "metadata": {},
     "output_type": "execute_result"
    }
   ],
   "source": [
    "len(df['id'].unique()) # number of unique IDs in databse"
   ]
  },
  {
   "cell_type": "code",
   "execution_count": 7,
   "id": "665f42b7-512c-4a0d-a73a-c85ac0cc71f4",
   "metadata": {
    "tags": []
   },
   "outputs": [
    {
     "data": {
      "text/plain": [
       "0"
      ]
     },
     "execution_count": 7,
     "metadata": {},
     "output_type": "execute_result"
    }
   ],
   "source": [
    "df.shape[0] - len(df['id'].unique()) # differnce is 0 so all IDs are unique"
   ]
  },
  {
   "cell_type": "markdown",
   "id": "41647553-126d-42c7-b6e1-aaeb5680587e",
   "metadata": {},
   "source": [
    "#### 3.3. Checking datatypes"
   ]
  },
  {
   "cell_type": "code",
   "execution_count": 8,
   "id": "315286f3-01ea-4c23-a14b-8f3267cfaf08",
   "metadata": {
    "tags": []
   },
   "outputs": [],
   "source": [
    "df.dtypes; # release date is not in date format\n"
   ]
  },
  {
   "cell_type": "markdown",
   "id": "129211f8-e9e6-4509-bdef-fe0925f3a56e",
   "metadata": {},
   "source": [
    "#### 3.4. Extracting data from columns\n"
   ]
  },
  {
   "cell_type": "code",
   "execution_count": 9,
   "id": "e120e26f-acc2-43f3-bdb5-f2d58ac8e821",
   "metadata": {
    "tags": []
   },
   "outputs": [],
   "source": [
    "def extract_data(column_list): # function to convert dictionaries into string\n",
    "    try:\n",
    "        column = eval(column_list) # evaluates input as a string\n",
    "        column_names = [x['name'] for x in column] # add relevant data to a list\n",
    "        return ', '.join(column_names) # joins elements into a single string, seperated by a commar\n",
    "    except:\n",
    "        return None\n"
   ]
  },
  {
   "cell_type": "code",
   "execution_count": 10,
   "id": "daaf84d8-31de-4eec-a872-3863ffbdbe17",
   "metadata": {
    "tags": []
   },
   "outputs": [],
   "source": [
    "# applying the function to all necessary columns\n",
    "df['spoken_languages2'] = df['spoken_languages'].apply(extract_data)\n",
    "df['genres2'] = df['genres'].apply(extract_data)\n",
    "df['production_companies2'] = df['production_companies'].apply(extract_data)\n",
    "df['keywords2'] = df['keywords'].apply(extract_data)\n",
    "df['production_countries2'] = df['production_countries'].apply(extract_data)"
   ]
  },
  {
   "cell_type": "code",
   "execution_count": 11,
   "id": "2eb9036b-d9c0-433f-b6f8-40305f140a60",
   "metadata": {
    "tags": []
   },
   "outputs": [],
   "source": [
    "df.head(2);"
   ]
  },
  {
   "cell_type": "markdown",
   "id": "e3e0b4d7-d9c8-4270-b02b-3a1501c592c0",
   "metadata": {},
   "source": [
    "## 4. Data Visulisation"
   ]
  },
  {
   "cell_type": "markdown",
   "id": "6a55d234-4518-4b6a-9437-a567d39eee70",
   "metadata": {},
   "source": [
    "#### 4.1. Number of movies for each budget category"
   ]
  },
  {
   "cell_type": "code",
   "execution_count": 12,
   "id": "32198c2d-ac32-4328-a1c8-bcc4826a8e8a",
   "metadata": {
    "tags": []
   },
   "outputs": [],
   "source": [
    "def budget_grouping(x): # function to group movies by budget size\n",
    "    if x == 0:\n",
    "        return 'Zero budget'\n",
    "    elif x <25000000: #25 million\n",
    "        return 'Very small budget'\n",
    "    elif x<50000000: #50 million \n",
    "        return 'Small budget'\n",
    "    elif x< 75000000: # 75 million\n",
    "        return 'Medium budget'\n",
    "    elif x< 100000000: #100 million\n",
    "        return 'High budget'\n",
    "    else: #100+ million\n",
    "        return 'Very high budget'"
   ]
  },
  {
   "cell_type": "code",
   "execution_count": 13,
   "id": "06ffea47-ba07-4873-bde4-a20e8a1c2c9f",
   "metadata": {
    "tags": []
   },
   "outputs": [
    {
     "data": {
      "image/png": "[encoded data removed]",
      "text/plain": [
       "<Figure size 1000x500 with 1 Axes>"
      ]
     },
     "metadata": {},
     "output_type": "display_data"
    }
   ],
   "source": [
    "    \n",
    "df['budget_group'] = df['budget'].apply(budget_grouping) # we use the '.apply()' method on the budget column\n",
    "plt.figure(figsize = (10,5))\n",
    "\n",
    "# In a count plot, the height of the bars represents the number of entries in that category\n",
    "sns.countplot(data = df,\n",
    "              x = 'budget_group',\n",
    "              palette = 'viridis',\n",
    "              order = ['Zero budget','Very small budget','Small budget','Medium budget','High budget','Very high budget']) \n",
    "\n",
    "plt.ylabel('Number of movies')\n",
    "plt.xlabel('Size of the budget')\n",
    "plt.title('Number of movies for each budget category')\n",
    "plt.show()"
   ]
  },
  {
   "cell_type": "markdown",
   "id": "24c947fa-e692-462f-b528-f550ac608743",
   "metadata": {},
   "source": [
    "##### I was interested to see how the movies in the database were distributed across different budget categories. Distribution of movies clearly shows the database mainly contains movies produced with a small budget. Suprisingly, there are a large amount of movies which were made on no budget! "
   ]
  },
  {
   "cell_type": "code",
   "execution_count": 14,
   "id": "9fde1d09-e46a-407a-b00b-46e6877bde66",
   "metadata": {
    "tags": []
   },
   "outputs": [],
   "source": [
    "zero_budget_df = df[df['budget_group'] == 'Zero budget'] # creating a dataframe with only movies with 0 budget"
   ]
  },
  {
   "cell_type": "code",
   "execution_count": 15,
   "id": "44cd7b23-07e7-4115-982b-1dbc25cb9569",
   "metadata": {
    "tags": []
   },
   "outputs": [
    {
     "data": {
      "text/html": [
       "<div>\n",
       "<style scoped>\n",
       "    .dataframe tbody tr th:only-of-type {\n",
       "        vertical-align: middle;\n",
       "    }\n",
       "\n",
       "    .dataframe tbody tr th {\n",
       "        vertical-align: top;\n",
       "    }\n",
       "\n",
       "    .dataframe thead th {\n",
       "        text-align: right;\n",
       "    }\n",
       "</style>\n",
       "<table border=\"1\" class=\"dataframe\">\n",
       "  <thead>\n",
       "    <tr style=\"text-align: right;\">\n",
       "      <th></th>\n",
       "      <th>budget</th>\n",
       "      <th>genres</th>\n",
       "      <th>homepage</th>\n",
       "      <th>id</th>\n",
       "      <th>keywords</th>\n",
       "      <th>original_language</th>\n",
       "      <th>original_title</th>\n",
       "      <th>overview</th>\n",
       "      <th>popularity</th>\n",
       "      <th>production_companies</th>\n",
       "      <th>production_countries</th>\n",
       "      <th>release_date</th>\n",
       "      <th>revenue</th>\n",
       "      <th>runtime</th>\n",
       "      <th>spoken_languages</th>\n",
       "      <th>status</th>\n",
       "      <th>tagline</th>\n",
       "      <th>title</th>\n",
       "      <th>vote_average</th>\n",
       "      <th>vote_count</th>\n",
       "      <th>spoken_languages2</th>\n",
       "      <th>genres2</th>\n",
       "      <th>production_companies2</th>\n",
       "      <th>keywords2</th>\n",
       "      <th>production_countries2</th>\n",
       "      <th>budget_group</th>\n",
       "    </tr>\n",
       "  </thead>\n",
       "  <tbody>\n",
       "    <tr>\n",
       "      <th>691</th>\n",
       "      <td>0</td>\n",
       "      <td>[{\"id\": 28, \"name\": \"Action\"}, {\"id\": 12, \"nam...</td>\n",
       "      <td>http://video.movies.go.com/wildhogs/</td>\n",
       "      <td>11199</td>\n",
       "      <td>[{\"id\": 1599, \"name\": \"midlife crisis\"}, {\"id\"...</td>\n",
       "      <td>en</td>\n",
       "      <td>Wild Hogs</td>\n",
       "      <td>Restless and ready for adventure, four suburba...</td>\n",
       "      <td>31.719463</td>\n",
       "      <td>[{\"name\": \"Wild Hogs Productions\", \"id\": 6354}...</td>\n",
       "      <td>[{\"iso_3166_1\": \"US\", \"name\": \"United States o...</td>\n",
       "      <td>2007-03-02</td>\n",
       "      <td>253625427</td>\n",
       "      <td>100.0</td>\n",
       "      <td>[{\"iso_639_1\": \"en\", \"name\": \"English\"}]</td>\n",
       "      <td>Released</td>\n",
       "      <td>A lot can happen on the road to nowhere.</td>\n",
       "      <td>Wild Hogs</td>\n",
       "      <td>5.6</td>\n",
       "      <td>648</td>\n",
       "      <td>English</td>\n",
       "      <td>Action, Adventure, Comedy</td>\n",
       "      <td>Wild Hogs Productions, Touchstone Pictures</td>\n",
       "      <td>midlife crisis, road trip, politically incorre...</td>\n",
       "      <td>United States of America</td>\n",
       "      <td>Zero budget</td>\n",
       "    </tr>\n",
       "    <tr>\n",
       "      <th>2669</th>\n",
       "      <td>0</td>\n",
       "      <td>[{\"id\": 12, \"name\": \"Adventure\"}, {\"id\": 35, \"...</td>\n",
       "      <td>NaN</td>\n",
       "      <td>9396</td>\n",
       "      <td>[{\"id\": 242, \"name\": \"new york\"}, {\"id\": 3185,...</td>\n",
       "      <td>en</td>\n",
       "      <td>Crocodile Dundee II</td>\n",
       "      <td>Australian outback expert protects his New Yor...</td>\n",
       "      <td>15.474831</td>\n",
       "      <td>[{\"name\": \"Paramount Pictures\", \"id\": 4}]</td>\n",
       "      <td>[{\"iso_3166_1\": \"AU\", \"name\": \"Australia\"}, {\"...</td>\n",
       "      <td>1988-05-19</td>\n",
       "      <td>239606210</td>\n",
       "      <td>110.0</td>\n",
       "      <td>[{\"iso_639_1\": \"en\", \"name\": \"English\"}]</td>\n",
       "      <td>Released</td>\n",
       "      <td>The world's favourite adventurer is back for m...</td>\n",
       "      <td>Crocodile Dundee II</td>\n",
       "      <td>5.5</td>\n",
       "      <td>303</td>\n",
       "      <td>English</td>\n",
       "      <td>Adventure, Comedy</td>\n",
       "      <td>Paramount Pictures</td>\n",
       "      <td>new york, crocodile, australia, large knife, a...</td>\n",
       "      <td>Australia, United States of America</td>\n",
       "      <td>Zero budget</td>\n",
       "    </tr>\n",
       "    <tr>\n",
       "      <th>359</th>\n",
       "      <td>0</td>\n",
       "      <td>[{\"id\": 12, \"name\": \"Adventure\"}, {\"id\": 16, \"...</td>\n",
       "      <td>http://www.foxmovies.com/movies/alvin-and-the-...</td>\n",
       "      <td>258509</td>\n",
       "      <td>[{\"id\": 10986, \"name\": \"chipmunk\"}, {\"id\": 109...</td>\n",
       "      <td>en</td>\n",
       "      <td>Alvin and the Chipmunks: The Road Chip</td>\n",
       "      <td>Through a series of misunderstandings, Alvin, ...</td>\n",
       "      <td>27.867368</td>\n",
       "      <td>[{\"name\": \"Regency Enterprises\", \"id\": 508}, {...</td>\n",
       "      <td>[{\"iso_3166_1\": \"US\", \"name\": \"United States o...</td>\n",
       "      <td>2015-12-17</td>\n",
       "      <td>233755553</td>\n",
       "      <td>92.0</td>\n",
       "      <td>[{\"iso_639_1\": \"en\", \"name\": \"English\"}]</td>\n",
       "      <td>Released</td>\n",
       "      <td>Fast &amp; furry-ous</td>\n",
       "      <td>Alvin and the Chipmunks: The Road Chip</td>\n",
       "      <td>5.8</td>\n",
       "      <td>428</td>\n",
       "      <td>English</td>\n",
       "      <td>Adventure, Animation, Comedy, Family</td>\n",
       "      <td>Regency Enterprises, Fox 2000 Pictures, Sunswe...</td>\n",
       "      <td>chipmunk, cgi, talking animal, aftercreditssti...</td>\n",
       "      <td>United States of America</td>\n",
       "      <td>Zero budget</td>\n",
       "    </tr>\n",
       "  </tbody>\n",
       "</table>\n",
       "</div>"
      ],
      "text/plain": [
       "      budget                                             genres  \\\n",
       "691        0  [{\"id\": 28, \"name\": \"Action\"}, {\"id\": 12, \"nam...   \n",
       "2669       0  [{\"id\": 12, \"name\": \"Adventure\"}, {\"id\": 35, \"...   \n",
       "359        0  [{\"id\": 12, \"name\": \"Adventure\"}, {\"id\": 16, \"...   \n",
       "\n",
       "                                               homepage      id  \\\n",
       "691                http://video.movies.go.com/wildhogs/   11199   \n",
       "2669                                                NaN    9396   \n",
       "359   http://www.foxmovies.com/movies/alvin-and-the-...  258509   \n",
       "\n",
       "                                               keywords original_language  \\\n",
       "691   [{\"id\": 1599, \"name\": \"midlife crisis\"}, {\"id\"...                en   \n",
       "2669  [{\"id\": 242, \"name\": \"new york\"}, {\"id\": 3185,...                en   \n",
       "359   [{\"id\": 10986, \"name\": \"chipmunk\"}, {\"id\": 109...                en   \n",
       "\n",
       "                              original_title  \\\n",
       "691                                Wild Hogs   \n",
       "2669                     Crocodile Dundee II   \n",
       "359   Alvin and the Chipmunks: The Road Chip   \n",
       "\n",
       "                                               overview  popularity  \\\n",
       "691   Restless and ready for adventure, four suburba...   31.719463   \n",
       "2669  Australian outback expert protects his New Yor...   15.474831   \n",
       "359   Through a series of misunderstandings, Alvin, ...   27.867368   \n",
       "\n",
       "                                   production_companies  \\\n",
       "691   [{\"name\": \"Wild Hogs Productions\", \"id\": 6354}...   \n",
       "2669          [{\"name\": \"Paramount Pictures\", \"id\": 4}]   \n",
       "359   [{\"name\": \"Regency Enterprises\", \"id\": 508}, {...   \n",
       "\n",
       "                                   production_countries release_date  \\\n",
       "691   [{\"iso_3166_1\": \"US\", \"name\": \"United States o...   2007-03-02   \n",
       "2669  [{\"iso_3166_1\": \"AU\", \"name\": \"Australia\"}, {\"...   1988-05-19   \n",
       "359   [{\"iso_3166_1\": \"US\", \"name\": \"United States o...   2015-12-17   \n",
       "\n",
       "        revenue  runtime                          spoken_languages    status  \\\n",
       "691   253625427    100.0  [{\"iso_639_1\": \"en\", \"name\": \"English\"}]  Released   \n",
       "2669  239606210    110.0  [{\"iso_639_1\": \"en\", \"name\": \"English\"}]  Released   \n",
       "359   233755553     92.0  [{\"iso_639_1\": \"en\", \"name\": \"English\"}]  Released   \n",
       "\n",
       "                                                tagline  \\\n",
       "691            A lot can happen on the road to nowhere.   \n",
       "2669  The world's favourite adventurer is back for m...   \n",
       "359                                    Fast & furry-ous   \n",
       "\n",
       "                                       title  vote_average  vote_count  \\\n",
       "691                                Wild Hogs           5.6         648   \n",
       "2669                     Crocodile Dundee II           5.5         303   \n",
       "359   Alvin and the Chipmunks: The Road Chip           5.8         428   \n",
       "\n",
       "     spoken_languages2                               genres2  \\\n",
       "691            English             Action, Adventure, Comedy   \n",
       "2669           English                     Adventure, Comedy   \n",
       "359            English  Adventure, Animation, Comedy, Family   \n",
       "\n",
       "                                  production_companies2  \\\n",
       "691          Wild Hogs Productions, Touchstone Pictures   \n",
       "2669                                 Paramount Pictures   \n",
       "359   Regency Enterprises, Fox 2000 Pictures, Sunswe...   \n",
       "\n",
       "                                              keywords2  \\\n",
       "691   midlife crisis, road trip, politically incorre...   \n",
       "2669  new york, crocodile, australia, large knife, a...   \n",
       "359   chipmunk, cgi, talking animal, aftercreditssti...   \n",
       "\n",
       "                    production_countries2 budget_group  \n",
       "691              United States of America  Zero budget  \n",
       "2669  Australia, United States of America  Zero budget  \n",
       "359              United States of America  Zero budget  "
      ]
     },
     "execution_count": 15,
     "metadata": {},
     "output_type": "execute_result"
    }
   ],
   "source": [
    "pd.set_option('display.max_columns', None) # see all columns\n",
    "zero_budget_df.sort_values('revenue', ascending = False).head(3) # looking at the top 3 movies by revenue with 0 budget\n"
   ]
  },
  {
   "cell_type": "markdown",
   "id": "e44f7ffb-fe85-4036-8643-26179f1efd0f",
   "metadata": {},
   "source": [
    "##### There are many large scale movies which generated a lot of revenue with zero budget. This suggests the budget was assigned to 0 when the actual budget could not be found."
   ]
  },
  {
   "cell_type": "markdown",
   "id": "0bbabfb6-72d1-4f6a-94c1-594b1d8d4eed",
   "metadata": {},
   "source": [
    "#### Dealing with the budget column: "
   ]
  },
  {
   "cell_type": "code",
   "execution_count": 16,
   "id": "6d925a17-7bdd-4f9b-bb2a-abe87437ce61",
   "metadata": {
    "tags": []
   },
   "outputs": [
    {
     "data": {
      "text/html": [
       "<div>\n",
       "<style scoped>\n",
       "    .dataframe tbody tr th:only-of-type {\n",
       "        vertical-align: middle;\n",
       "    }\n",
       "\n",
       "    .dataframe tbody tr th {\n",
       "        vertical-align: top;\n",
       "    }\n",
       "\n",
       "    .dataframe thead th {\n",
       "        text-align: right;\n",
       "    }\n",
       "</style>\n",
       "<table border=\"1\" class=\"dataframe\">\n",
       "  <thead>\n",
       "    <tr style=\"text-align: right;\">\n",
       "      <th></th>\n",
       "      <th>budget</th>\n",
       "      <th>genres</th>\n",
       "      <th>homepage</th>\n",
       "      <th>id</th>\n",
       "      <th>keywords</th>\n",
       "      <th>original_language</th>\n",
       "      <th>original_title</th>\n",
       "      <th>overview</th>\n",
       "      <th>popularity</th>\n",
       "      <th>production_companies</th>\n",
       "      <th>production_countries</th>\n",
       "      <th>release_date</th>\n",
       "      <th>revenue</th>\n",
       "      <th>runtime</th>\n",
       "      <th>spoken_languages</th>\n",
       "      <th>status</th>\n",
       "      <th>tagline</th>\n",
       "      <th>title</th>\n",
       "      <th>vote_average</th>\n",
       "      <th>vote_count</th>\n",
       "      <th>spoken_languages2</th>\n",
       "      <th>genres2</th>\n",
       "      <th>production_companies2</th>\n",
       "      <th>keywords2</th>\n",
       "      <th>production_countries2</th>\n",
       "      <th>budget_group</th>\n",
       "    </tr>\n",
       "  </thead>\n",
       "  <tbody>\n",
       "    <tr>\n",
       "      <th>4553</th>\n",
       "      <td>0</td>\n",
       "      <td>[]</td>\n",
       "      <td>NaN</td>\n",
       "      <td>380097</td>\n",
       "      <td>[]</td>\n",
       "      <td>en</td>\n",
       "      <td>America Is Still the Place</td>\n",
       "      <td>1971 post civil rights San Francisco seemed li...</td>\n",
       "      <td>0.0</td>\n",
       "      <td>[]</td>\n",
       "      <td>[]</td>\n",
       "      <td>NaN</td>\n",
       "      <td>0</td>\n",
       "      <td>0.0</td>\n",
       "      <td>[]</td>\n",
       "      <td>Released</td>\n",
       "      <td>NaN</td>\n",
       "      <td>America Is Still the Place</td>\n",
       "      <td>0.0</td>\n",
       "      <td>0</td>\n",
       "      <td></td>\n",
       "      <td></td>\n",
       "      <td></td>\n",
       "      <td></td>\n",
       "      <td></td>\n",
       "      <td>Zero budget</td>\n",
       "    </tr>\n",
       "  </tbody>\n",
       "</table>\n",
       "</div>"
      ],
      "text/plain": [
       "      budget genres homepage      id keywords original_language  \\\n",
       "4553       0     []      NaN  380097       []                en   \n",
       "\n",
       "                  original_title  \\\n",
       "4553  America Is Still the Place   \n",
       "\n",
       "                                               overview  popularity  \\\n",
       "4553  1971 post civil rights San Francisco seemed li...         0.0   \n",
       "\n",
       "     production_companies production_countries release_date  revenue  runtime  \\\n",
       "4553                   []                   []          NaN        0      0.0   \n",
       "\n",
       "     spoken_languages    status tagline                       title  \\\n",
       "4553               []  Released     NaN  America Is Still the Place   \n",
       "\n",
       "      vote_average  vote_count spoken_languages2 genres2  \\\n",
       "4553           0.0           0                             \n",
       "\n",
       "     production_companies2 keywords2 production_countries2 budget_group  \n",
       "4553                                                        Zero budget  "
      ]
     },
     "execution_count": 16,
     "metadata": {},
     "output_type": "execute_result"
    }
   ],
   "source": [
    "# dealing with the null entry in release date\n",
    "rows_with_null = df[df['release_date'].isnull()] # finding the row with a null entry release_date\n",
    "rows_with_null\n",
    "## "
   ]
  },
  {
   "cell_type": "code",
   "execution_count": 17,
   "id": "d20e390b-a0e8-479b-876c-ef0f4ef663eb",
   "metadata": {
    "tags": []
   },
   "outputs": [],
   "source": [
    "## creating a new column, year, so budget can be replaced with the mean budget of the year it was released in.\n",
    "\n",
    "df['release_date'] = pd.to_datetime(df['release_date']) # Converts column to datatime data type.\n",
    "df['year'] = df['release_date'].dt.year.fillna(2015).astype(int) # Creates a new column for each year in database. Fills in the one null entry for movie: America is Still the Place. It was released in 2015 (found by google)\n",
    "pd.set_option('display.float_format', '{:.2f}'.format) # Displays numbers in float format."
   ]
  },
  {
   "cell_type": "code",
   "execution_count": 18,
   "id": "5bf3ee97-5234-4ebb-9a09-1b375e1757f3",
   "metadata": {
    "tags": []
   },
   "outputs": [],
   "source": [
    "\n",
    "df['budget'] = df['budget'].replace(0, np.nan) # replaces 0s with NaN\n",
    "df['budget'] = df.groupby('year')[['budget']].transform(lambda x: x.fillna(x.mean())) # fills NaN with the mean budget of the year the movie was released\n"
   ]
  },
  {
   "cell_type": "markdown",
   "id": "938b8d74-be2c-4f90-bda7-146af3e7f642",
   "metadata": {
    "tags": []
   },
   "source": [
    "#### 4.2. Average budget for a movie in each genre.\n"
   ]
  },
  {
   "cell_type": "code",
   "execution_count": 19,
   "id": "3ca39f39-08fc-410f-a9fb-e8fdca6007cb",
   "metadata": {
    "tags": []
   },
   "outputs": [],
   "source": [
    "df['genres2'] = df['genres2'].str.split(', ') # splits string into a list of substrings\n",
    "df_exploded = df.explode('genres2') #creates a new database, so genre column only contains 1 genre name. Duplicates rows with multiple genres.\n",
    "\n",
    "\n"
   ]
  },
  {
   "cell_type": "code",
   "execution_count": 20,
   "id": "948943f4-32f6-438f-b8c0-ddeeb88572a5",
   "metadata": {
    "tags": []
   },
   "outputs": [],
   "source": [
    "\n",
    "average_budget_per_genre = df_exploded.groupby('genres2')[['budget']].mean().reset_index() # Calculate the average budget for each genre\n"
   ]
  },
  {
   "cell_type": "code",
   "execution_count": 21,
   "id": "fe06fc2a-56cb-4d2b-95c6-c568f363d1c7",
   "metadata": {
    "tags": []
   },
   "outputs": [
    {
     "data": {
      "image/png": "[encoded data removed]",
      "text/plain": [
       "<Figure size 1000x500 with 1 Axes>"
      ]
     },
     "metadata": {},
     "output_type": "display_data"
    }
   ],
   "source": [
    "plt.figure(figsize = (10,5)) # setting the size of the output\n",
    "\n",
    "\n",
    "\n",
    "sns.barplot( data = average_budget_per_genre.tail(20),\n",
    "             x = 'genres2' ,\n",
    "             y = 'budget',\n",
    "             palette = 'rocket' # setting the colours\n",
    "           )\n",
    "\n",
    "# We can also adjust the labels\n",
    "plt.xticks(rotation = 45, # rotating labels\n",
    "           horizontalalignment = 'right', # aligning them with the bars\n",
    "           fontweight = 'light',\n",
    "           fontsize = 'large' # setting the fonts\n",
    "          )\n",
    "plt.xlabel('Types of genres')\n",
    "plt.ylabel('Budget')\n",
    "plt.title('Average budget for a movie in each genre')\n",
    "plt.show()"
   ]
  },
  {
   "cell_type": "markdown",
   "id": "b549e1db-2521-44c7-b7b3-4b0b510a0be1",
   "metadata": {
    "tags": []
   },
   "source": [
    "##### Genres which get the largest budget on average were adventure, animation and fantasy. All averaging over 60 million per movie! Documentarty, horror and music` movie all at the bottom. I found the fact animation was at the top very suprising, I always thought animation movies were cheap to make!"
   ]
  },
  {
   "cell_type": "markdown",
   "id": "d2cd0f48-c460-4280-b14f-c489040c9f0c",
   "metadata": {
    "tags": []
   },
   "source": [
    "#### 4.3. Average budget of a movie per year for the last 30 years"
   ]
  },
  {
   "cell_type": "code",
   "execution_count": 22,
   "id": "d4e91ed1-efec-4493-90c1-0331c16a61aa",
   "metadata": {
    "tags": []
   },
   "outputs": [],
   "source": [
    "average_budget = df.groupby('year')[['budget']].mean().reset_index().sort_values(by = 'year', ascending = False).round(2) # calculating the mean budget of a movie in each year to d.p."
   ]
  },
  {
   "cell_type": "code",
   "execution_count": 23,
   "id": "1a1548c8-627f-4890-9d3b-399285ada8e0",
   "metadata": {
    "tags": []
   },
   "outputs": [],
   "source": [
    "recent_years_budget = average_budget.head(30) # data from the last 30 years\n",
    "\n"
   ]
  },
  {
   "cell_type": "code",
   "execution_count": 24,
   "id": "7dfe9a24-0f63-47bf-9e40-a9d131d3c67e",
   "metadata": {
    "tags": []
   },
   "outputs": [
    {
     "data": {
      "image/png": "[encoded data removed]",
      "text/plain": [
       "<Figure size 1000x500 with 1 Axes>"
      ]
     },
     "metadata": {},
     "output_type": "display_data"
    }
   ],
   "source": [
    "plt.figure(figsize = (10,5)) # setting the size of the output\n",
    "\n",
    "\n",
    "\n",
    "sns.barplot( data = recent_years_budget,\n",
    "             x = 'year' ,\n",
    "             y = 'budget',\n",
    "             palette = 'cool' # setting the colours\n",
    "           )\n",
    "\n",
    "# We can also adjust the labels\n",
    "plt.xticks(rotation = 45, # rotating labels\n",
    "           horizontalalignment = 'right', # aligning them with the bars\n",
    "           fontweight = 'light',\n",
    "           fontsize = 'large' # setting the fonts\n",
    "          )\n",
    "\n",
    "plt.xlabel('Year')\n",
    "plt.ylabel('Budget')\n",
    "plt.title('Average budget of a movie per year for the last 30 years')\n",
    "\n",
    "plt.show()"
   ]
  },
  {
   "cell_type": "markdown",
   "id": "80af6ac7-fd2d-4159-8676-90e1fe41021b",
   "metadata": {
    "tags": []
   },
   "source": [
    "##### General upwards trend over the last 30 years suggests more money is being put into the movie industry."
   ]
  },
  {
   "cell_type": "markdown",
   "id": "e023384f-a2ff-47fd-b537-e6b6e58854e5",
   "metadata": {
    "tags": []
   },
   "source": [
    "#### 4.4. Average profit of a movie per year for the last 30 years"
   ]
  },
  {
   "cell_type": "code",
   "execution_count": 25,
   "id": "cf35ef93-01cb-46ad-823b-d29c81c4cf24",
   "metadata": {
    "tags": []
   },
   "outputs": [],
   "source": [
    "df['profit'] = df['revenue'] - df['budget'] # Calculates profit of each movie."
   ]
  },
  {
   "cell_type": "code",
   "execution_count": 26,
   "id": "4e2b6c53-de51-492c-8c06-9084f6f96864",
   "metadata": {
    "tags": []
   },
   "outputs": [],
   "source": [
    "top_profit = df.groupby('year')[['profit']].mean().reset_index().sort_values(by = 'year', ascending = False).round(2) # Calculates the mean profit for each year in database to 2 d.p.\n"
   ]
  },
  {
   "cell_type": "code",
   "execution_count": 27,
   "id": "dac06b66-d3b1-4688-94b1-06bdf0c57ece",
   "metadata": {
    "tags": []
   },
   "outputs": [],
   "source": [
    "recent_years_profit = top_profit.head(30) # data from the last 30 years\n"
   ]
  },
  {
   "cell_type": "code",
   "execution_count": 28,
   "id": "64b92656-940a-4ced-b625-0fd243573082",
   "metadata": {
    "tags": []
   },
   "outputs": [
    {
     "data": {
      "image/png": "[encoded data removed]",
      "text/plain": [
       "<Figure size 1000x500 with 1 Axes>"
      ]
     },
     "metadata": {},
     "output_type": "display_data"
    }
   ],
   "source": [
    "plt.figure(figsize = (10,5)) # setting the size of the output\n",
    "\n",
    "\n",
    "\n",
    "sns.barplot( data = recent_years_profit,\n",
    "             x = 'year' ,\n",
    "             y = 'profit',\n",
    "             palette = 'cool' # setting the colours\n",
    "           )\n",
    "\n",
    "# We can also adjust the labels\n",
    "plt.xticks(rotation = 45, # rotating labels\n",
    "           horizontalalignment = 'right', # aligning them with the bars\n",
    "           fontweight = 'light',\n",
    "           fontsize = 'large' # setting the fonts\n",
    "          )\n",
    "\n",
    "\n",
    "plt.xlabel('Year')\n",
    "plt.ylabel('Profit')\n",
    "plt.title('Average profit of a movie per year for the last 30 years')\n",
    "\n",
    "plt.show()\n",
    "# plt.savefig('plot.png', dpi = 300, bbox_inches = 'tight') # saving the chart as a .png – it will be saved in the current working directory"
   ]
  },
  {
   "cell_type": "markdown",
   "id": "152c85f4-f77f-4c6f-a242-a1243b945df2",
   "metadata": {},
   "source": [
    "##### Very suprised to see profits on average were much higher in the 1990s than the 2000s, despite budget increasing!"
   ]
  },
  {
   "cell_type": "code",
   "execution_count": 29,
   "id": "f5a0c6a4-501e-4e1d-95d5-29b5c37937e4",
   "metadata": {
    "tags": []
   },
   "outputs": [
    {
     "name": "stdout",
     "output_type": "stream",
     "text": [
      " The correlation coefficient between budget and profit is: 0.52\n"
     ]
    }
   ],
   "source": [
    "budget_vs_profit_correlation = df['budget'].corr(df['profit']).round(2) # calculates the correlation between budget and profit to 2d.p.\n",
    "print(f' The correlation coefficient between budget and profit is: {budget_vs_profit_correlation}')"
   ]
  },
  {
   "cell_type": "markdown",
   "id": "83eb3d84-71f7-4a51-8f0e-05cae57ade3e",
   "metadata": {},
   "source": [
    "##### A correlation of 0.52 still suggests a positive relationship between budget and profit."
   ]
  },
  {
   "cell_type": "markdown",
   "id": "39d9534f-9e2d-421e-bb5f-51914466aa34",
   "metadata": {},
   "source": [
    "## 5. Key Points"
   ]
  },
  {
   "cell_type": "markdown",
   "id": "44b7a871-a567-4a03-9077-e7c326f353af",
   "metadata": {},
   "source": [
    "#### 5.1. Correlation between budget and average vote"
   ]
  },
  {
   "cell_type": "code",
   "execution_count": 30,
   "id": "e6c28b23-0b23-4b6d-b94a-88e8c7e13676",
   "metadata": {
    "tags": []
   },
   "outputs": [
    {
     "data": {
      "text/html": [
       "<div>\n",
       "<style scoped>\n",
       "    .dataframe tbody tr th:only-of-type {\n",
       "        vertical-align: middle;\n",
       "    }\n",
       "\n",
       "    .dataframe tbody tr th {\n",
       "        vertical-align: top;\n",
       "    }\n",
       "\n",
       "    .dataframe thead th {\n",
       "        text-align: right;\n",
       "    }\n",
       "</style>\n",
       "<table border=\"1\" class=\"dataframe\">\n",
       "  <thead>\n",
       "    <tr style=\"text-align: right;\">\n",
       "      <th></th>\n",
       "      <th>budget</th>\n",
       "      <th>id</th>\n",
       "      <th>popularity</th>\n",
       "      <th>revenue</th>\n",
       "      <th>runtime</th>\n",
       "      <th>vote_average</th>\n",
       "      <th>vote_count</th>\n",
       "      <th>year</th>\n",
       "      <th>profit</th>\n",
       "    </tr>\n",
       "  </thead>\n",
       "  <tbody>\n",
       "    <tr>\n",
       "      <th>budget</th>\n",
       "      <td>1.00</td>\n",
       "      <td>-0.02</td>\n",
       "      <td>0.43</td>\n",
       "      <td>0.68</td>\n",
       "      <td>0.20</td>\n",
       "      <td>0.00</td>\n",
       "      <td>0.53</td>\n",
       "      <td>0.24</td>\n",
       "      <td>0.52</td>\n",
       "    </tr>\n",
       "    <tr>\n",
       "      <th>id</th>\n",
       "      <td>-0.02</td>\n",
       "      <td>1.00</td>\n",
       "      <td>0.03</td>\n",
       "      <td>-0.05</td>\n",
       "      <td>-0.15</td>\n",
       "      <td>-0.27</td>\n",
       "      <td>-0.00</td>\n",
       "      <td>0.44</td>\n",
       "      <td>-0.05</td>\n",
       "    </tr>\n",
       "    <tr>\n",
       "      <th>popularity</th>\n",
       "      <td>0.43</td>\n",
       "      <td>0.03</td>\n",
       "      <td>1.00</td>\n",
       "      <td>0.64</td>\n",
       "      <td>0.23</td>\n",
       "      <td>0.27</td>\n",
       "      <td>0.78</td>\n",
       "      <td>0.10</td>\n",
       "      <td>0.63</td>\n",
       "    </tr>\n",
       "    <tr>\n",
       "      <th>revenue</th>\n",
       "      <td>0.68</td>\n",
       "      <td>-0.05</td>\n",
       "      <td>0.64</td>\n",
       "      <td>1.00</td>\n",
       "      <td>0.25</td>\n",
       "      <td>0.20</td>\n",
       "      <td>0.78</td>\n",
       "      <td>0.09</td>\n",
       "      <td>0.98</td>\n",
       "    </tr>\n",
       "    <tr>\n",
       "      <th>runtime</th>\n",
       "      <td>0.20</td>\n",
       "      <td>-0.15</td>\n",
       "      <td>0.23</td>\n",
       "      <td>0.25</td>\n",
       "      <td>1.00</td>\n",
       "      <td>0.38</td>\n",
       "      <td>0.27</td>\n",
       "      <td>-0.17</td>\n",
       "      <td>0.24</td>\n",
       "    </tr>\n",
       "    <tr>\n",
       "      <th>vote_average</th>\n",
       "      <td>0.00</td>\n",
       "      <td>-0.27</td>\n",
       "      <td>0.27</td>\n",
       "      <td>0.20</td>\n",
       "      <td>0.38</td>\n",
       "      <td>1.00</td>\n",
       "      <td>0.31</td>\n",
       "      <td>-0.20</td>\n",
       "      <td>0.23</td>\n",
       "    </tr>\n",
       "    <tr>\n",
       "      <th>vote_count</th>\n",
       "      <td>0.53</td>\n",
       "      <td>-0.00</td>\n",
       "      <td>0.78</td>\n",
       "      <td>0.78</td>\n",
       "      <td>0.27</td>\n",
       "      <td>0.31</td>\n",
       "      <td>1.00</td>\n",
       "      <td>0.11</td>\n",
       "      <td>0.77</td>\n",
       "    </tr>\n",
       "    <tr>\n",
       "      <th>year</th>\n",
       "      <td>0.24</td>\n",
       "      <td>0.44</td>\n",
       "      <td>0.10</td>\n",
       "      <td>0.09</td>\n",
       "      <td>-0.17</td>\n",
       "      <td>-0.20</td>\n",
       "      <td>0.11</td>\n",
       "      <td>1.00</td>\n",
       "      <td>0.04</td>\n",
       "    </tr>\n",
       "    <tr>\n",
       "      <th>profit</th>\n",
       "      <td>0.52</td>\n",
       "      <td>-0.05</td>\n",
       "      <td>0.63</td>\n",
       "      <td>0.98</td>\n",
       "      <td>0.24</td>\n",
       "      <td>0.23</td>\n",
       "      <td>0.77</td>\n",
       "      <td>0.04</td>\n",
       "      <td>1.00</td>\n",
       "    </tr>\n",
       "  </tbody>\n",
       "</table>\n",
       "</div>"
      ],
      "text/plain": [
       "              budget    id  popularity  revenue  runtime  vote_average  \\\n",
       "budget          1.00 -0.02        0.43     0.68     0.20          0.00   \n",
       "id             -0.02  1.00        0.03    -0.05    -0.15         -0.27   \n",
       "popularity      0.43  0.03        1.00     0.64     0.23          0.27   \n",
       "revenue         0.68 -0.05        0.64     1.00     0.25          0.20   \n",
       "runtime         0.20 -0.15        0.23     0.25     1.00          0.38   \n",
       "vote_average    0.00 -0.27        0.27     0.20     0.38          1.00   \n",
       "vote_count      0.53 -0.00        0.78     0.78     0.27          0.31   \n",
       "year            0.24  0.44        0.10     0.09    -0.17         -0.20   \n",
       "profit          0.52 -0.05        0.63     0.98     0.24          0.23   \n",
       "\n",
       "              vote_count  year  profit  \n",
       "budget              0.53  0.24    0.52  \n",
       "id                 -0.00  0.44   -0.05  \n",
       "popularity          0.78  0.10    0.63  \n",
       "revenue             0.78  0.09    0.98  \n",
       "runtime             0.27 -0.17    0.24  \n",
       "vote_average        0.31 -0.20    0.23  \n",
       "vote_count          1.00  0.11    0.77  \n",
       "year                0.11  1.00    0.04  \n",
       "profit              0.77  0.04    1.00  "
      ]
     },
     "execution_count": 30,
     "metadata": {},
     "output_type": "execute_result"
    }
   ],
   "source": [
    "df.corr(numeric_only = True) # calculates the correlation between all columns in the df"
   ]
  },
  {
   "cell_type": "code",
   "execution_count": 37,
   "id": "3f1288e6-3019-482b-8789-5d9d87c7c723",
   "metadata": {
    "tags": []
   },
   "outputs": [
    {
     "data": {
      "image/png": "[encoded data removed]",
      "text/plain": [
       "<Figure size 800x500 with 2 Axes>"
      ]
     },
     "metadata": {},
     "output_type": "display_data"
    }
   ],
   "source": [
    "corr_matrix = df.corr(numeric_only = True)\n",
    "\n",
    "# Create mask to remove duplicates\n",
    "mask = np.triu(np.ones_like(corr_matrix, dtype=bool))\n",
    "\n",
    "# Plot heatmap\n",
    "plt.figure(figsize=(8, 5))\n",
    "sns.heatmap(corr_matrix, annot=True, mask = mask, cmap='coolwarm', fmt=\".2f\",  vmin=-1, vmax=1)\n",
    "plt.title('Correlation Heatmap')\n",
    "plt.show()"
   ]
  },
  {
   "cell_type": "code",
   "execution_count": 32,
   "id": "03b4cab6-b7fd-452c-9d80-bc48a5515d27",
   "metadata": {
    "tags": []
   },
   "outputs": [
    {
     "name": "stdout",
     "output_type": "stream",
     "text": [
      " The correlation coefficient between budget and the average vote is: 0.0\n"
     ]
    }
   ],
   "source": [
    "budget_vs_vote_correlation = df['budget'].corr(df['vote_average']).round(2) # correlation between the budget and the vote_average to 2d.p.\n",
    "print(f' The correlation coefficient between budget and the average vote is: {budget_vs_vote_correlation}')"
   ]
  },
  {
   "cell_type": "markdown",
   "id": "99541ec1-b2d8-4b2c-9eb3-704f98c8c3f6",
   "metadata": {},
   "source": [
    "##### I found this insight very suprising. I would have expected a movie with a much larger budget to recieve higher voting ratings, as with a larger budget you would usualy expect more popular actors, better screen writing and visuals. However, the correlation coefficient suggests no correlation!"
   ]
  },
  {
   "cell_type": "markdown",
   "id": "08471a03-7dd8-431a-aa4b-4d62294dc6d9",
   "metadata": {},
   "source": [
    "#### 5.2. Where movies were produced"
   ]
  },
  {
   "cell_type": "code",
   "execution_count": 31,
   "id": "04fb72e4-8e12-4ee8-a9c1-c4b657b52e4c",
   "metadata": {
    "tags": []
   },
   "outputs": [],
   "source": [
    "df['production_countries2'] = df['production_countries2'].str.split(', ') # same method used to split up genres\n",
    "df_exploded2 = df.explode('production_countries2')"
   ]
  },
  {
   "cell_type": "code",
   "execution_count": 32,
   "id": "f95c7d2b-042b-44c2-8a03-f2fa13339014",
   "metadata": {
    "tags": []
   },
   "outputs": [],
   "source": [
    "production_countries = df_exploded2.groupby('production_countries2')[['id']].count().reset_index().sort_values('id', ascending = False) # counts number of movies produced in each country"
   ]
  },
  {
   "cell_type": "code",
   "execution_count": 33,
   "id": "85b892b0-c178-42ab-9de6-d599f90518f7",
   "metadata": {
    "tags": []
   },
   "outputs": [
    {
     "data": {
      "text/html": [
       "<div>\n",
       "<style scoped>\n",
       "    .dataframe tbody tr th:only-of-type {\n",
       "        vertical-align: middle;\n",
       "    }\n",
       "\n",
       "    .dataframe tbody tr th {\n",
       "        vertical-align: top;\n",
       "    }\n",
       "\n",
       "    .dataframe thead th {\n",
       "        text-align: right;\n",
       "    }\n",
       "</style>\n",
       "<table border=\"1\" class=\"dataframe\">\n",
       "  <thead>\n",
       "    <tr style=\"text-align: right;\">\n",
       "      <th></th>\n",
       "      <th>production_countries2</th>\n",
       "      <th>Number of movies</th>\n",
       "    </tr>\n",
       "  </thead>\n",
       "  <tbody>\n",
       "    <tr>\n",
       "      <th>88</th>\n",
       "      <td>United States of America</td>\n",
       "      <td>3956</td>\n",
       "    </tr>\n",
       "    <tr>\n",
       "      <th>87</th>\n",
       "      <td>United Kingdom</td>\n",
       "      <td>636</td>\n",
       "    </tr>\n",
       "    <tr>\n",
       "      <th>31</th>\n",
       "      <td>Germany</td>\n",
       "      <td>324</td>\n",
       "    </tr>\n",
       "    <tr>\n",
       "      <th>30</th>\n",
       "      <td>France</td>\n",
       "      <td>306</td>\n",
       "    </tr>\n",
       "    <tr>\n",
       "      <th>17</th>\n",
       "      <td>Canada</td>\n",
       "      <td>261</td>\n",
       "    </tr>\n",
       "  </tbody>\n",
       "</table>\n",
       "</div>"
      ],
      "text/plain": [
       "       production_countries2  Number of movies\n",
       "88  United States of America              3956\n",
       "87            United Kingdom               636\n",
       "31                   Germany               324\n",
       "30                    France               306\n",
       "17                    Canada               261"
      ]
     },
     "execution_count": 33,
     "metadata": {},
     "output_type": "execute_result"
    }
   ],
   "source": [
    "production_countries = production_countries.rename(columns = {'id' : 'Number of movies'}) # rename column\n",
    "production_countries.head() # countries which produced the most movies"
   ]
  },
  {
   "cell_type": "markdown",
   "id": "65e5f39b-f0a2-41c0-be62-1c5d3a2d00f0",
   "metadata": {},
   "source": [
    "##### Database is dominated by movies produced in the US. In fact, 82% of movies were produced in the US. I alaways knew the US dominated the movie industry but I didn't know to what extent. Perhaps, this data base is biased towards movies created in the West?"
   ]
  },
  {
   "cell_type": "markdown",
   "id": "c38e854d-d3f7-47aa-afd3-89133be37cac",
   "metadata": {},
   "source": [
    "## 6. In Depth Movie Analysis"
   ]
  },
  {
   "cell_type": "markdown",
   "id": "b5ddac24-a94b-483f-a952-54ce97d2872f",
   "metadata": {
    "tags": []
   },
   "source": [
    "#### 6.1. Picking two movies"
   ]
  },
  {
   "cell_type": "markdown",
   "id": "59d70127-6bc1-49fe-a979-ea4390eb2975",
   "metadata": {},
   "source": [
    "##### I decided to pick the highest performing movie and lowest performing movie in the database based upon profit created. These were Avatar and The Lone Ranger respectively. I thought it would be interesting to see if the data could explain why they performed so well. Avatar created roughly 2.5 billion in profit, where as The Lone Ranger lost roughly 166 million."
   ]
  },
  {
   "cell_type": "code",
   "execution_count": 34,
   "id": "d23aee53-4051-40bd-885d-3850768e109c",
   "metadata": {
    "tags": []
   },
   "outputs": [
    {
     "data": {
      "text/html": [
       "<div>\n",
       "<style scoped>\n",
       "    .dataframe tbody tr th:only-of-type {\n",
       "        vertical-align: middle;\n",
       "    }\n",
       "\n",
       "    .dataframe tbody tr th {\n",
       "        vertical-align: top;\n",
       "    }\n",
       "\n",
       "    .dataframe thead th {\n",
       "        text-align: right;\n",
       "    }\n",
       "</style>\n",
       "<table border=\"1\" class=\"dataframe\">\n",
       "  <thead>\n",
       "    <tr style=\"text-align: right;\">\n",
       "      <th></th>\n",
       "      <th>budget</th>\n",
       "      <th>genres</th>\n",
       "      <th>homepage</th>\n",
       "      <th>id</th>\n",
       "      <th>keywords</th>\n",
       "      <th>original_language</th>\n",
       "      <th>original_title</th>\n",
       "      <th>overview</th>\n",
       "      <th>popularity</th>\n",
       "      <th>production_companies</th>\n",
       "      <th>production_countries</th>\n",
       "      <th>release_date</th>\n",
       "      <th>revenue</th>\n",
       "      <th>runtime</th>\n",
       "      <th>spoken_languages</th>\n",
       "      <th>status</th>\n",
       "      <th>tagline</th>\n",
       "      <th>title</th>\n",
       "      <th>vote_average</th>\n",
       "      <th>vote_count</th>\n",
       "      <th>spoken_languages2</th>\n",
       "      <th>genres2</th>\n",
       "      <th>production_companies2</th>\n",
       "      <th>keywords2</th>\n",
       "      <th>production_countries2</th>\n",
       "      <th>budget_group</th>\n",
       "      <th>year</th>\n",
       "      <th>profit</th>\n",
       "    </tr>\n",
       "  </thead>\n",
       "  <tbody>\n",
       "    <tr>\n",
       "      <th>0</th>\n",
       "      <td>237000000.00</td>\n",
       "      <td>[{\"id\": 28, \"name\": \"Action\"}, {\"id\": 12, \"nam...</td>\n",
       "      <td>http://www.avatarmovie.com/</td>\n",
       "      <td>19995</td>\n",
       "      <td>[{\"id\": 1463, \"name\": \"culture clash\"}, {\"id\":...</td>\n",
       "      <td>en</td>\n",
       "      <td>Avatar</td>\n",
       "      <td>In the 22nd century, a paraplegic Marine is di...</td>\n",
       "      <td>150.44</td>\n",
       "      <td>[{\"name\": \"Ingenious Film Partners\", \"id\": 289...</td>\n",
       "      <td>[{\"iso_3166_1\": \"US\", \"name\": \"United States o...</td>\n",
       "      <td>2009-12-10</td>\n",
       "      <td>2787965087</td>\n",
       "      <td>162.00</td>\n",
       "      <td>[{\"iso_639_1\": \"en\", \"name\": \"English\"}, {\"iso...</td>\n",
       "      <td>Released</td>\n",
       "      <td>Enter the World of Pandora.</td>\n",
       "      <td>Avatar</td>\n",
       "      <td>7.20</td>\n",
       "      <td>11800</td>\n",
       "      <td>English, Español</td>\n",
       "      <td>[Action, Adventure, Fantasy, Science Fiction]</td>\n",
       "      <td>Ingenious Film Partners, Twentieth Century Fox...</td>\n",
       "      <td>culture clash, future, space war, space colony...</td>\n",
       "      <td>[United States of America, United Kingdom]</td>\n",
       "      <td>Very high budget</td>\n",
       "      <td>2009</td>\n",
       "      <td>2550965087.00</td>\n",
       "    </tr>\n",
       "  </tbody>\n",
       "</table>\n",
       "</div>"
      ],
      "text/plain": [
       "        budget                                             genres  \\\n",
       "0 237000000.00  [{\"id\": 28, \"name\": \"Action\"}, {\"id\": 12, \"nam...   \n",
       "\n",
       "                      homepage     id  \\\n",
       "0  http://www.avatarmovie.com/  19995   \n",
       "\n",
       "                                            keywords original_language  \\\n",
       "0  [{\"id\": 1463, \"name\": \"culture clash\"}, {\"id\":...                en   \n",
       "\n",
       "  original_title                                           overview  \\\n",
       "0         Avatar  In the 22nd century, a paraplegic Marine is di...   \n",
       "\n",
       "   popularity                               production_companies  \\\n",
       "0      150.44  [{\"name\": \"Ingenious Film Partners\", \"id\": 289...   \n",
       "\n",
       "                                production_countries release_date     revenue  \\\n",
       "0  [{\"iso_3166_1\": \"US\", \"name\": \"United States o...   2009-12-10  2787965087   \n",
       "\n",
       "   runtime                                   spoken_languages    status  \\\n",
       "0   162.00  [{\"iso_639_1\": \"en\", \"name\": \"English\"}, {\"iso...  Released   \n",
       "\n",
       "                       tagline   title  vote_average  vote_count  \\\n",
       "0  Enter the World of Pandora.  Avatar          7.20       11800   \n",
       "\n",
       "  spoken_languages2                                        genres2  \\\n",
       "0  English, Español  [Action, Adventure, Fantasy, Science Fiction]   \n",
       "\n",
       "                               production_companies2  \\\n",
       "0  Ingenious Film Partners, Twentieth Century Fox...   \n",
       "\n",
       "                                           keywords2  \\\n",
       "0  culture clash, future, space war, space colony...   \n",
       "\n",
       "                        production_countries2      budget_group  year  \\\n",
       "0  [United States of America, United Kingdom]  Very high budget  2009   \n",
       "\n",
       "         profit  \n",
       "0 2550965087.00  "
      ]
     },
     "execution_count": 34,
     "metadata": {},
     "output_type": "execute_result"
    }
   ],
   "source": [
    "pd.set_option('display.max_columns', None)\n",
    "df.sort_values('profit',ascending = False ).head(1) # number 1 grossing moving\n",
    "\n",
    "\n"
   ]
  },
  {
   "cell_type": "code",
   "execution_count": 35,
   "id": "58462325-0e94-4b4f-b626-1f6e48650f83",
   "metadata": {
    "tags": []
   },
   "outputs": [
    {
     "data": {
      "text/html": [
       "<div>\n",
       "<style scoped>\n",
       "    .dataframe tbody tr th:only-of-type {\n",
       "        vertical-align: middle;\n",
       "    }\n",
       "\n",
       "    .dataframe tbody tr th {\n",
       "        vertical-align: top;\n",
       "    }\n",
       "\n",
       "    .dataframe thead th {\n",
       "        text-align: right;\n",
       "    }\n",
       "</style>\n",
       "<table border=\"1\" class=\"dataframe\">\n",
       "  <thead>\n",
       "    <tr style=\"text-align: right;\">\n",
       "      <th></th>\n",
       "      <th>budget</th>\n",
       "      <th>genres</th>\n",
       "      <th>homepage</th>\n",
       "      <th>id</th>\n",
       "      <th>keywords</th>\n",
       "      <th>original_language</th>\n",
       "      <th>original_title</th>\n",
       "      <th>overview</th>\n",
       "      <th>popularity</th>\n",
       "      <th>production_companies</th>\n",
       "      <th>production_countries</th>\n",
       "      <th>release_date</th>\n",
       "      <th>revenue</th>\n",
       "      <th>runtime</th>\n",
       "      <th>spoken_languages</th>\n",
       "      <th>status</th>\n",
       "      <th>tagline</th>\n",
       "      <th>title</th>\n",
       "      <th>vote_average</th>\n",
       "      <th>vote_count</th>\n",
       "      <th>spoken_languages2</th>\n",
       "      <th>genres2</th>\n",
       "      <th>production_companies2</th>\n",
       "      <th>keywords2</th>\n",
       "      <th>production_countries2</th>\n",
       "      <th>budget_group</th>\n",
       "      <th>year</th>\n",
       "      <th>profit</th>\n",
       "    </tr>\n",
       "  </thead>\n",
       "  <tbody>\n",
       "    <tr>\n",
       "      <th>4255</th>\n",
       "      <td>NaN</td>\n",
       "      <td>[{\"id\": 35, \"name\": \"Comedy\"}, {\"id\": 10751, \"...</td>\n",
       "      <td>http://www.growingupsmithmovie.com</td>\n",
       "      <td>426469</td>\n",
       "      <td>[]</td>\n",
       "      <td>en</td>\n",
       "      <td>Growing Up Smith</td>\n",
       "      <td>In 1979, an Indian family moves to America wit...</td>\n",
       "      <td>0.71</td>\n",
       "      <td>[]</td>\n",
       "      <td>[]</td>\n",
       "      <td>2017-02-03</td>\n",
       "      <td>0</td>\n",
       "      <td>102.00</td>\n",
       "      <td>[{\"iso_639_1\": \"en\", \"name\": \"English\"}]</td>\n",
       "      <td>Released</td>\n",
       "      <td>It’s better to stand out than to fit in.</td>\n",
       "      <td>Growing Up Smith</td>\n",
       "      <td>7.40</td>\n",
       "      <td>7</td>\n",
       "      <td>English</td>\n",
       "      <td>[Comedy, Family, Drama]</td>\n",
       "      <td></td>\n",
       "      <td></td>\n",
       "      <td>[]</td>\n",
       "      <td>Zero budget</td>\n",
       "      <td>2017</td>\n",
       "      <td>NaN</td>\n",
       "    </tr>\n",
       "  </tbody>\n",
       "</table>\n",
       "</div>"
      ],
      "text/plain": [
       "      budget                                             genres  \\\n",
       "4255     NaN  [{\"id\": 35, \"name\": \"Comedy\"}, {\"id\": 10751, \"...   \n",
       "\n",
       "                                homepage      id keywords original_language  \\\n",
       "4255  http://www.growingupsmithmovie.com  426469       []                en   \n",
       "\n",
       "        original_title                                           overview  \\\n",
       "4255  Growing Up Smith  In 1979, an Indian family moves to America wit...   \n",
       "\n",
       "      popularity production_companies production_countries release_date  \\\n",
       "4255        0.71                   []                   []   2017-02-03   \n",
       "\n",
       "      revenue  runtime                          spoken_languages    status  \\\n",
       "4255        0   102.00  [{\"iso_639_1\": \"en\", \"name\": \"English\"}]  Released   \n",
       "\n",
       "                                       tagline             title  \\\n",
       "4255  It’s better to stand out than to fit in.  Growing Up Smith   \n",
       "\n",
       "      vote_average  vote_count spoken_languages2                  genres2  \\\n",
       "4255          7.40           7           English  [Comedy, Family, Drama]   \n",
       "\n",
       "     production_companies2 keywords2 production_countries2 budget_group  year  \\\n",
       "4255                                                    []  Zero budget  2017   \n",
       "\n",
       "      profit  \n",
       "4255     NaN  "
      ]
     },
     "execution_count": 35,
     "metadata": {},
     "output_type": "execute_result"
    }
   ],
   "source": [
    "df.sort_values('profit',ascending = False ).tail(1) # movie which made the biggest loss"
   ]
  },
  {
   "cell_type": "markdown",
   "id": "1440bc05-0589-4c75-b0e4-ce4292a6c913",
   "metadata": {},
   "source": [
    "#### 6.2. Comparing the average vote to other high budget movies"
   ]
  },
  {
   "cell_type": "code",
   "execution_count": 36,
   "id": "15fe3716-3399-430f-8082-3794688c1fa8",
   "metadata": {
    "tags": []
   },
   "outputs": [],
   "source": [
    "high_budget_df = df[df['budget_group'] == 'Very high budget'] # selecting only very high budget movies\n",
    "\n"
   ]
  },
  {
   "cell_type": "code",
   "execution_count": 37,
   "id": "d32537a5-cdc5-4d0e-8c25-e4afcca733b9",
   "metadata": {
    "tags": []
   },
   "outputs": [
    {
     "data": {
      "image/png": "[encoded data removed]",
      "text/plain": [
       "<Figure size 1200x300 with 1 Axes>"
      ]
     },
     "metadata": {},
     "output_type": "display_data"
    }
   ],
   "source": [
    "\n",
    "plt.figure(figsize = (12,3))\n",
    "ax = sns.boxplot(data = high_budget_df['vote_average'] ,\n",
    "            orient = 'h') # showing the plot horizontally\n",
    "\n",
    "\n",
    "\n",
    "x_coord = 7.2 # avatar avg_user rating\n",
    "y_coord = 0\n",
    "\n",
    "x_coord_2 = 5.9 # the longe ranger avg_user rating\n",
    "y_coord_2 = 0\n",
    "\n",
    "# Mark unique coordinates\n",
    "ax.scatter(x_coord, y_coord, color='red', marker='o', s=100)\n",
    "ax.scatter(x_coord_2, y_coord_2, color='blue', marker='o', s=100)\n",
    "\n",
    "legend_handles = [Line2D([0], [0], marker='o', color='w', markerfacecolor='red', markersize=10), # creates a legend\n",
    "                  Line2D([0], [0], marker='o', color='w', markerfacecolor='blue', markersize=10)]\n",
    "ax.legend(handles = legend_handles, labels = ['Avatar', 'The Lone Ranger'])\n",
    "\n",
    "plt.xlabel('Average Vote')\n",
    "plt.title('Boxplot of Average Vote for High Budget Movies')\n",
    "\n",
    "plt.show()"
   ]
  },
  {
   "cell_type": "markdown",
   "id": "83934207-edba-4f86-bae7-988184c10c27",
   "metadata": {},
   "source": [
    "#### 6.3. Comparing the popularity to other high budget movies\n",
    "\n"
   ]
  },
  {
   "cell_type": "code",
   "execution_count": 41,
   "id": "b0788503-4265-407c-b217-6fc197fbf97e",
   "metadata": {
    "tags": []
   },
   "outputs": [
    {
     "data": {
      "image/png": "[encoded data removed]",
      "text/plain": [
       "<Figure size 1200x300 with 1 Axes>"
      ]
     },
     "metadata": {},
     "output_type": "display_data"
    }
   ],
   "source": [
    "plt.figure(figsize = (12,3))\n",
    "ax = sns.boxplot(data = high_budget_df['popularity'] ,\n",
    "            orient = 'h') # showing the plot horizontally\n",
    "\n",
    "\n",
    "\n",
    "x_coord = 150.44 # avatar popularity \n",
    "y_coord = 0\n",
    "\n",
    "x_coord_2 = 49.05 # the lone ranger popularity\n",
    "y_coord_2 = 0\n",
    "\n",
    "# Mark unique coordinates\n",
    "ax.scatter(x_coord, y_coord, color='red', marker='o', s=100)\n",
    "ax.scatter(x_coord_2, y_coord_2, color='blue', marker='o', s=100)\n",
    "\n",
    "legend_handles = [Line2D([0], [0], marker='o', color='w', markerfacecolor='red', markersize=10), \n",
    "                  Line2D([0], [0], marker='o', color='w', markerfacecolor='blue', markersize=10)]\n",
    "ax.legend(handles = legend_handles, labels = ['Avatar', 'The Lone Ranger'])\n",
    "ax.set_xlim(0, 200) # Set popularity limit to 200 to avoid displaying extreme outliers\n",
    "plt.xlabel('Popularity ')\n",
    "plt.title('Boxplot of Popularity for High Budget Movies')\n",
    "\n",
    "plt.show()"
   ]
  },
  {
   "cell_type": "markdown",
   "id": "330bdfb1-5e92-4476-8d81-d6769406d617",
   "metadata": {},
   "source": [
    "#### 6.4. Comparing the runtime to other high budget movies"
   ]
  },
  {
   "cell_type": "code",
   "execution_count": 39,
   "id": "bc3caef5-32a6-4c8f-a537-8618620586db",
   "metadata": {
    "tags": []
   },
   "outputs": [
    {
     "data": {
      "image/png": "[encoded data removed]",
      "text/plain": [
       "<Figure size 1200x300 with 1 Axes>"
      ]
     },
     "metadata": {},
     "output_type": "display_data"
    }
   ],
   "source": [
    "plt.figure(figsize = (12,3))\n",
    "ax = sns.boxplot(data = high_budget_df['runtime'] ,\n",
    "            orient = 'h') # showing the plot horizontally\n",
    "\n",
    "\n",
    "\n",
    "x_coord = 162 # avatar run time\n",
    "y_coord = 0\n",
    "\n",
    "x_coord_2 = 149 # the lone ranger run time\n",
    "y_coord_2 = 0\n",
    "\n",
    "# Mark unique coordinates\n",
    "ax.scatter(x_coord, y_coord, color='red', marker='o', s=100)\n",
    "ax.scatter(x_coord_2, y_coord_2, color='blue', marker='o', s=100)\n",
    "\n",
    "legend_handles = [Line2D([0], [0], marker='o', color='w', markerfacecolor='red', markersize=10),\n",
    "                  Line2D([0], [0], marker='o', color='w', markerfacecolor='blue', markersize=10)]\n",
    "ax.legend(handles = legend_handles, labels = ['Avatar', 'The Lone Ranger'])\n",
    "\n",
    "plt.xlabel('Run time ')\n",
    "plt.title('Boxplot of runtime for High Budget Movies')\n",
    "\n",
    "plt.show()"
   ]
  }
 ],
 "metadata": {
  "kernelspec": {
   "display_name": "Python 3 (ipykernel)",
   "language": "python",
   "name": "python3"
  },
  "language_info": {
   "codemirror_mode": {
    "name": "ipython",
    "version": 3
   },
   "file_extension": ".py",
   "mimetype": "text/x-python",
   "name": "python",
   "nbconvert_exporter": "python",
   "pygments_lexer": "ipython3",
   "version": "3.11.5"
  }
 },
 "nbformat": 4,
 "nbformat_minor": 5
}
